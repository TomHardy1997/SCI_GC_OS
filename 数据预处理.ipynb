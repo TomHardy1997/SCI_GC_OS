{
 "cells": [
  {
   "cell_type": "code",
   "execution_count": 58,
   "metadata": {},
   "outputs": [],
   "source": [
    "import pandas as pd\n",
    "import os\n",
    "import numpy as np\n",
    "from os.path import join\n"
   ]
  },
  {
   "cell_type": "code",
   "execution_count": 85,
   "metadata": {},
   "outputs": [],
   "source": [
    "df = pd.read_csv('/mnt/usb5/jijianxin/new_wsi/clean_gc_all_clinical_data.csv')"
   ]
  },
  {
   "cell_type": "code",
   "execution_count": 86,
   "metadata": {},
   "outputs": [],
   "source": [
    "variable_mapping = {\n",
    "    '病理号': 'case_id',\n",
    "    '性别': 'gender',\n",
    "    '年龄': 'age_at_index',\n",
    "    'T分期': 'ajcc_pathologic_t',\n",
    "    'N分期': 'ajcc_pathologic_n',\n",
    "    'M分期': 'ajcc_pathologic_m',\n",
    "    '综合分期': 'ajcc_pathologic_stage',\n",
    "    '五年生存状态（0=失访，1=存活，2=死亡）': 'vital_status',\n",
    "    '最后一次随访时间': 'days_to_last_follow_up'\n",
    "}\n"
   ]
  },
  {
   "cell_type": "code",
   "execution_count": 87,
   "metadata": {},
   "outputs": [],
   "source": [
    "df.rename(columns=variable_mapping, inplace=True)\n"
   ]
  },
  {
   "cell_type": "code",
   "execution_count": 88,
   "metadata": {},
   "outputs": [],
   "source": [
    "selected_columns = ['case_id', 'gender', 'age_at_index', 'ajcc_pathologic_t', 'ajcc_pathologic_n', 'ajcc_pathologic_m', 'ajcc_pathologic_stage','vital_status'\n",
    ",'手术日期','days_to_last_follow_up']"
   ]
  },
  {
   "cell_type": "code",
   "execution_count": 89,
   "metadata": {},
   "outputs": [],
   "source": [
    "new_df = df[selected_columns]"
   ]
  },
  {
   "cell_type": "code",
   "execution_count": 91,
   "metadata": {},
   "outputs": [
    {
     "name": "stderr",
     "output_type": "stream",
     "text": [
      "/home/stat-jijianxin/anaconda3/envs/clam/lib/python3.7/site-packages/ipykernel_launcher.py:2: SettingWithCopyWarning: \n",
      "A value is trying to be set on a copy of a slice from a DataFrame.\n",
      "Try using .loc[row_indexer,col_indexer] = value instead\n",
      "\n",
      "See the caveats in the documentation: https://pandas.pydata.org/pandas-docs/stable/user_guide/indexing.html#returning-a-view-versus-a-copy\n",
      "  \n",
      "/home/stat-jijianxin/anaconda3/envs/clam/lib/python3.7/site-packages/ipykernel_launcher.py:3: SettingWithCopyWarning: \n",
      "A value is trying to be set on a copy of a slice from a DataFrame.\n",
      "Try using .loc[row_indexer,col_indexer] = value instead\n",
      "\n",
      "See the caveats in the documentation: https://pandas.pydata.org/pandas-docs/stable/user_guide/indexing.html#returning-a-view-versus-a-copy\n",
      "  This is separate from the ipykernel package so we can avoid doing imports until\n"
     ]
    }
   ],
   "source": [
    "# new_df['censor'] = new_df['treatment_outcome'].apply(lambda int(x): 0 if x ==2 else 1)\n",
    "new_df['censor'] = new_df['vital_status'].apply(lambda x: 0 if x == 2 else 1)\n",
    "new_df['status'] = new_df['censor'].apply(lambda x: 0 if x ==1 else 1)"
   ]
  },
  {
   "cell_type": "code",
   "execution_count": 92,
   "metadata": {},
   "outputs": [
    {
     "name": "stderr",
     "output_type": "stream",
     "text": [
      "/home/stat-jijianxin/anaconda3/envs/clam/lib/python3.7/site-packages/ipykernel_launcher.py:3: SettingWithCopyWarning: \n",
      "A value is trying to be set on a copy of a slice from a DataFrame.\n",
      "Try using .loc[row_indexer,col_indexer] = value instead\n",
      "\n",
      "See the caveats in the documentation: https://pandas.pydata.org/pandas-docs/stable/user_guide/indexing.html#returning-a-view-versus-a-copy\n",
      "  This is separate from the ipykernel package so we can avoid doing imports until\n",
      "/home/stat-jijianxin/anaconda3/envs/clam/lib/python3.7/site-packages/ipykernel_launcher.py:4: SettingWithCopyWarning: \n",
      "A value is trying to be set on a copy of a slice from a DataFrame.\n",
      "Try using .loc[row_indexer,col_indexer] = value instead\n",
      "\n",
      "See the caveats in the documentation: https://pandas.pydata.org/pandas-docs/stable/user_guide/indexing.html#returning-a-view-versus-a-copy\n",
      "  after removing the cwd from sys.path.\n",
      "/home/stat-jijianxin/anaconda3/envs/clam/lib/python3.7/site-packages/ipykernel_launcher.py:5: SettingWithCopyWarning: \n",
      "A value is trying to be set on a copy of a slice from a DataFrame.\n",
      "Try using .loc[row_indexer,col_indexer] = value instead\n",
      "\n",
      "See the caveats in the documentation: https://pandas.pydata.org/pandas-docs/stable/user_guide/indexing.html#returning-a-view-versus-a-copy\n",
      "  \"\"\"\n"
     ]
    }
   ],
   "source": [
    "# type(new_df['手术日期'][1])\n",
    "###转换成日期\n",
    "new_df['手术日期'] = pd.to_datetime(new_df['手术日期'], format='%Y-%m-%d')\n",
    "new_df['days_to_last_follow_up'] = pd.to_datetime(new_df['days_to_last_follow_up'], format='%Y-%m-%d')\n",
    "new_df['survival_months'] = ((new_df['days_to_last_follow_up'] - new_df['手术日期']).dt.days / 30).round(2)"
   ]
  },
  {
   "cell_type": "code",
   "execution_count": 93,
   "metadata": {},
   "outputs": [
    {
     "name": "stderr",
     "output_type": "stream",
     "text": [
      "/home/stat-jijianxin/anaconda3/envs/clam/lib/python3.7/site-packages/pandas/core/frame.py:5047: SettingWithCopyWarning: \n",
      "A value is trying to be set on a copy of a slice from a DataFrame\n",
      "\n",
      "See the caveats in the documentation: https://pandas.pydata.org/pandas-docs/stable/user_guide/indexing.html#returning-a-view-versus-a-copy\n",
      "  errors=errors,\n"
     ]
    }
   ],
   "source": [
    "new_df.rename(columns={'手术日期':'date_of_surgery'}, inplace=True)"
   ]
  },
  {
   "cell_type": "code",
   "execution_count": 94,
   "metadata": {},
   "outputs": [
    {
     "name": "stderr",
     "output_type": "stream",
     "text": [
      "/home/stat-jijianxin/anaconda3/envs/clam/lib/python3.7/site-packages/ipykernel_launcher.py:1: SettingWithCopyWarning: \n",
      "A value is trying to be set on a copy of a slice from a DataFrame.\n",
      "Try using .loc[row_indexer,col_indexer] = value instead\n",
      "\n",
      "See the caveats in the documentation: https://pandas.pydata.org/pandas-docs/stable/user_guide/indexing.html#returning-a-view-versus-a-copy\n",
      "  \"\"\"Entry point for launching an IPython kernel.\n"
     ]
    }
   ],
   "source": [
    "new_df['gender'] = new_df[ 'gender'].apply(lambda x: 1 if x == '男' else 0)"
   ]
  },
  {
   "cell_type": "code",
   "execution_count": 77,
   "metadata": {},
   "outputs": [
    {
     "name": "stderr",
     "output_type": "stream",
     "text": [
      "/home/stat-jijianxin/anaconda3/envs/clam/lib/python3.7/site-packages/pandas/core/frame.py:5047: SettingWithCopyWarning: \n",
      "A value is trying to be set on a copy of a slice from a DataFrame\n",
      "\n",
      "See the caveats in the documentation: https://pandas.pydata.org/pandas-docs/stable/user_guide/indexing.html#returning-a-view-versus-a-copy\n",
      "  errors=errors,\n"
     ]
    }
   ],
   "source": [
    "new_df.rename(columns={'ajcc_clinical_stage':\n",
    "'ajcc_pathologic_stage'}, inplace=True)"
   ]
  },
  {
   "cell_type": "code",
   "execution_count": 95,
   "metadata": {},
   "outputs": [],
   "source": [
    "selected_columns = ['case_id', 'status', 'survival_months', 'gender', 'age_at_index',\n",
    "       'ajcc_pathologic_t', 'ajcc_pathologic_n', 'ajcc_pathologic_m',\n",
    "       'ajcc_pathologic_stage']"
   ]
  },
  {
   "cell_type": "code",
   "execution_count": 97,
   "metadata": {},
   "outputs": [],
   "source": [
    "del new_df['vital_status']\n",
    "del new_df['date_of_surgery']\n",
    "del new_df['days_to_last_follow_up']"
   ]
  },
  {
   "cell_type": "markdown",
   "metadata": {},
   "source": []
  },
  {
   "cell_type": "code",
   "execution_count": 99,
   "metadata": {},
   "outputs": [],
   "source": [
    "new_df.to_csv('HMU匹配数据生存.csv',index=False)"
   ]
  },
  {
   "cell_type": "code",
   "execution_count": 83,
   "metadata": {},
   "outputs": [
    {
     "data": {
      "text/html": [
       "<div>\n",
       "<style scoped>\n",
       "    .dataframe tbody tr th:only-of-type {\n",
       "        vertical-align: middle;\n",
       "    }\n",
       "\n",
       "    .dataframe tbody tr th {\n",
       "        vertical-align: top;\n",
       "    }\n",
       "\n",
       "    .dataframe thead th {\n",
       "        text-align: right;\n",
       "    }\n",
       "</style>\n",
       "<table border=\"1\" class=\"dataframe\">\n",
       "  <thead>\n",
       "    <tr style=\"text-align: right;\">\n",
       "      <th></th>\n",
       "      <th>case_id</th>\n",
       "      <th>status</th>\n",
       "      <th>status</th>\n",
       "      <th>survival_months</th>\n",
       "      <th>gender</th>\n",
       "      <th>age_at_index</th>\n",
       "      <th>ajcc_pathologic_t</th>\n",
       "      <th>ajcc_pathologic_n</th>\n",
       "      <th>ajcc_pathologic_m</th>\n",
       "      <th>ajcc_pathologic_stage</th>\n",
       "    </tr>\n",
       "  </thead>\n",
       "  <tbody>\n",
       "    <tr>\n",
       "      <th>0</th>\n",
       "      <td>1400865</td>\n",
       "      <td>1</td>\n",
       "      <td>0</td>\n",
       "      <td>84.47</td>\n",
       "      <td>1</td>\n",
       "      <td>46</td>\n",
       "      <td>T2</td>\n",
       "      <td>N0</td>\n",
       "      <td>M0</td>\n",
       "      <td>ⅠB</td>\n",
       "    </tr>\n",
       "    <tr>\n",
       "      <th>1</th>\n",
       "      <td>1400793</td>\n",
       "      <td>1</td>\n",
       "      <td>0</td>\n",
       "      <td>105.23</td>\n",
       "      <td>1</td>\n",
       "      <td>32</td>\n",
       "      <td>T2</td>\n",
       "      <td>N3a</td>\n",
       "      <td>M0</td>\n",
       "      <td>ⅢA</td>\n",
       "    </tr>\n",
       "    <tr>\n",
       "      <th>2</th>\n",
       "      <td>1401410</td>\n",
       "      <td>0</td>\n",
       "      <td>0</td>\n",
       "      <td>66.73</td>\n",
       "      <td>1</td>\n",
       "      <td>61</td>\n",
       "      <td>T3</td>\n",
       "      <td>N2</td>\n",
       "      <td>M0</td>\n",
       "      <td>ⅢA</td>\n",
       "    </tr>\n",
       "    <tr>\n",
       "      <th>3</th>\n",
       "      <td>1401025</td>\n",
       "      <td>1</td>\n",
       "      <td>0</td>\n",
       "      <td>76.67</td>\n",
       "      <td>0</td>\n",
       "      <td>57</td>\n",
       "      <td>T4b</td>\n",
       "      <td>N0</td>\n",
       "      <td>M0</td>\n",
       "      <td>ⅢA</td>\n",
       "    </tr>\n",
       "    <tr>\n",
       "      <th>4</th>\n",
       "      <td>1400716</td>\n",
       "      <td>0</td>\n",
       "      <td>0</td>\n",
       "      <td>64.10</td>\n",
       "      <td>1</td>\n",
       "      <td>53</td>\n",
       "      <td>T2</td>\n",
       "      <td>N0</td>\n",
       "      <td>M0</td>\n",
       "      <td>ⅠB</td>\n",
       "    </tr>\n",
       "    <tr>\n",
       "      <th>...</th>\n",
       "      <td>...</td>\n",
       "      <td>...</td>\n",
       "      <td>...</td>\n",
       "      <td>...</td>\n",
       "      <td>...</td>\n",
       "      <td>...</td>\n",
       "      <td>...</td>\n",
       "      <td>...</td>\n",
       "      <td>...</td>\n",
       "      <td>...</td>\n",
       "    </tr>\n",
       "    <tr>\n",
       "      <th>2894</th>\n",
       "      <td>1737196</td>\n",
       "      <td>0</td>\n",
       "      <td>0</td>\n",
       "      <td>35.67</td>\n",
       "      <td>0</td>\n",
       "      <td>59</td>\n",
       "      <td>T2</td>\n",
       "      <td>N0</td>\n",
       "      <td>M0</td>\n",
       "      <td>ⅠB</td>\n",
       "    </tr>\n",
       "    <tr>\n",
       "      <th>2895</th>\n",
       "      <td>1736252</td>\n",
       "      <td>1</td>\n",
       "      <td>0</td>\n",
       "      <td>60.00</td>\n",
       "      <td>0</td>\n",
       "      <td>77</td>\n",
       "      <td>T1b</td>\n",
       "      <td>N0</td>\n",
       "      <td>M0</td>\n",
       "      <td>ⅠA</td>\n",
       "    </tr>\n",
       "    <tr>\n",
       "      <th>2896</th>\n",
       "      <td>1807581</td>\n",
       "      <td>1</td>\n",
       "      <td>0</td>\n",
       "      <td>54.73</td>\n",
       "      <td>0</td>\n",
       "      <td>67</td>\n",
       "      <td>T1b</td>\n",
       "      <td>N0</td>\n",
       "      <td>M0</td>\n",
       "      <td>ⅠA</td>\n",
       "    </tr>\n",
       "    <tr>\n",
       "      <th>2897</th>\n",
       "      <td>1814675</td>\n",
       "      <td>1</td>\n",
       "      <td>0</td>\n",
       "      <td>53.30</td>\n",
       "      <td>1</td>\n",
       "      <td>63</td>\n",
       "      <td>T2</td>\n",
       "      <td>N0</td>\n",
       "      <td>M0</td>\n",
       "      <td>ⅠB</td>\n",
       "    </tr>\n",
       "    <tr>\n",
       "      <th>2898</th>\n",
       "      <td>1818938</td>\n",
       "      <td>0</td>\n",
       "      <td>0</td>\n",
       "      <td>29.40</td>\n",
       "      <td>1</td>\n",
       "      <td>63</td>\n",
       "      <td>T3</td>\n",
       "      <td>N2</td>\n",
       "      <td>M0</td>\n",
       "      <td>ⅢA</td>\n",
       "    </tr>\n",
       "  </tbody>\n",
       "</table>\n",
       "<p>2899 rows × 10 columns</p>\n",
       "</div>"
      ],
      "text/plain": [
       "      case_id  status  status  survival_months  gender  age_at_index  \\\n",
       "0     1400865       1       0            84.47       1            46   \n",
       "1     1400793       1       0           105.23       1            32   \n",
       "2     1401410       0       0            66.73       1            61   \n",
       "3     1401025       1       0            76.67       0            57   \n",
       "4     1400716       0       0            64.10       1            53   \n",
       "...       ...     ...     ...              ...     ...           ...   \n",
       "2894  1737196       0       0            35.67       0            59   \n",
       "2895  1736252       1       0            60.00       0            77   \n",
       "2896  1807581       1       0            54.73       0            67   \n",
       "2897  1814675       1       0            53.30       1            63   \n",
       "2898  1818938       0       0            29.40       1            63   \n",
       "\n",
       "     ajcc_pathologic_t ajcc_pathologic_n ajcc_pathologic_m  \\\n",
       "0                   T2                N0                M0   \n",
       "1                   T2               N3a                M0   \n",
       "2                   T3                N2                M0   \n",
       "3                  T4b                N0                M0   \n",
       "4                   T2                N0                M0   \n",
       "...                ...               ...               ...   \n",
       "2894                T2               N0                 M0   \n",
       "2895               T1b               N0                 M0   \n",
       "2896               T1b               N0                 M0   \n",
       "2897                T2               N0                 M0   \n",
       "2898                T3               N2                 M0   \n",
       "\n",
       "     ajcc_pathologic_stage  \n",
       "0                       ⅠB  \n",
       "1                       ⅢA  \n",
       "2                       ⅢA  \n",
       "3                       ⅢA  \n",
       "4                       ⅠB  \n",
       "...                    ...  \n",
       "2894                    ⅠB  \n",
       "2895                    ⅠA  \n",
       "2896                    ⅠA  \n",
       "2897                    ⅠB  \n",
       "2898                    ⅢA  \n",
       "\n",
       "[2899 rows x 10 columns]"
      ]
     },
     "execution_count": 83,
     "metadata": {},
     "output_type": "execute_result"
    }
   ],
   "source": [
    "new_df_1"
   ]
  },
  {
   "cell_type": "code",
   "execution_count": null,
   "metadata": {},
   "outputs": [],
   "source": []
  }
 ],
 "metadata": {
  "kernelspec": {
   "display_name": "clam",
   "language": "python",
   "name": "python3"
  },
  "language_info": {
   "codemirror_mode": {
    "name": "ipython",
    "version": 3
   },
   "file_extension": ".py",
   "mimetype": "text/x-python",
   "name": "python",
   "nbconvert_exporter": "python",
   "pygments_lexer": "ipython3",
   "version": "3.7.7"
  }
 },
 "nbformat": 4,
 "nbformat_minor": 2
}
